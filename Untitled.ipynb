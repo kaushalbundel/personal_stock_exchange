{
 "cells": [
  {
   "cell_type": "code",
   "execution_count": 1,
   "metadata": {},
   "outputs": [],
   "source": [
    "import requests\n",
    "import pandas as pd\n",
    "import json\n",
    "import os"
   ]
  },
  {
   "cell_type": "code",
   "execution_count": 2,
   "metadata": {},
   "outputs": [],
   "source": [
    "api_key=\"EsfARrVCG6u1HZRafoqx\""
   ]
  },
  {
   "cell_type": "code",
   "execution_count": 3,
   "metadata": {},
   "outputs": [
    {
     "data": {
      "text/plain": [
       "['Untitled.ipynb',\n",
       " 'Project Objective.txt',\n",
       " 'BSE_metadata.csv',\n",
       " '.ipynb_checkpoints',\n",
       " '.git']"
      ]
     },
     "execution_count": 3,
     "metadata": {},
     "output_type": "execute_result"
    }
   ],
   "source": [
    "os.listdir()"
   ]
  },
  {
   "cell_type": "code",
   "execution_count": 49,
   "metadata": {},
   "outputs": [],
   "source": [
    "buy_price=225"
   ]
  },
  {
   "cell_type": "code",
   "execution_count": 4,
   "metadata": {},
   "outputs": [
    {
     "data": {
      "text/plain": [
       "Index(['code', 'name', 'description', 'refreshed_at', 'from_date', 'to_date'], dtype='object')"
      ]
     },
     "execution_count": 4,
     "metadata": {},
     "output_type": "execute_result"
    }
   ],
   "source": [
    "# Reading the meta data file\n",
    "meta= pd.read_csv('BSE_metadata.csv')\n",
    "meta.columns"
   ]
  },
  {
   "cell_type": "code",
   "execution_count": 5,
   "metadata": {},
   "outputs": [
    {
     "data": {
      "text/html": [
       "<div>\n",
       "<style scoped>\n",
       "    .dataframe tbody tr th:only-of-type {\n",
       "        vertical-align: middle;\n",
       "    }\n",
       "\n",
       "    .dataframe tbody tr th {\n",
       "        vertical-align: top;\n",
       "    }\n",
       "\n",
       "    .dataframe thead th {\n",
       "        text-align: right;\n",
       "    }\n",
       "</style>\n",
       "<table border=\"1\" class=\"dataframe\">\n",
       "  <thead>\n",
       "    <tr style=\"text-align: right;\">\n",
       "      <th></th>\n",
       "      <th>code</th>\n",
       "      <th>name</th>\n",
       "      <th>description</th>\n",
       "      <th>refreshed_at</th>\n",
       "      <th>from_date</th>\n",
       "      <th>to_date</th>\n",
       "    </tr>\n",
       "  </thead>\n",
       "  <tbody>\n",
       "    <tr>\n",
       "      <th>0</th>\n",
       "      <td>BOM500002</td>\n",
       "      <td>ABB India Limited EOD Prices</td>\n",
       "      <td>End of Day prices and additional trading infor...</td>\n",
       "      <td>2021-04-13 14:26:13</td>\n",
       "      <td>1992-03-02</td>\n",
       "      <td>2021-04-13</td>\n",
       "    </tr>\n",
       "    <tr>\n",
       "      <th>1</th>\n",
       "      <td>BOM500003</td>\n",
       "      <td>AEGIS LOGISTICS LTD. EOD Prices</td>\n",
       "      <td>End of Day prices and additional trading infor...</td>\n",
       "      <td>2021-04-13 14:26:13</td>\n",
       "      <td>1992-03-02</td>\n",
       "      <td>2021-04-13</td>\n",
       "    </tr>\n",
       "    <tr>\n",
       "      <th>2</th>\n",
       "      <td>BOM500008</td>\n",
       "      <td>AMARA RAJA BATTERIES LTD. EOD Prices</td>\n",
       "      <td>End of Day prices and additional trading infor...</td>\n",
       "      <td>2021-04-13 14:26:13</td>\n",
       "      <td>1992-03-02</td>\n",
       "      <td>2021-04-13</td>\n",
       "    </tr>\n",
       "    <tr>\n",
       "      <th>3</th>\n",
       "      <td>BOM500009</td>\n",
       "      <td>AMBALAL SARABHAI ENTERPRISES LTD. EOD Prices</td>\n",
       "      <td>End of Day prices and additional trading infor...</td>\n",
       "      <td>2021-04-13 14:26:13</td>\n",
       "      <td>1992-03-02</td>\n",
       "      <td>2021-04-13</td>\n",
       "    </tr>\n",
       "    <tr>\n",
       "      <th>4</th>\n",
       "      <td>BOM500010</td>\n",
       "      <td>HOUSING DEVELOPMENT FINANCE CORP.LTD. EOD Prices</td>\n",
       "      <td>End of Day prices and additional trading infor...</td>\n",
       "      <td>2021-04-13 14:26:13</td>\n",
       "      <td>1992-01-03</td>\n",
       "      <td>2021-04-13</td>\n",
       "    </tr>\n",
       "  </tbody>\n",
       "</table>\n",
       "</div>"
      ],
      "text/plain": [
       "        code                                              name  \\\n",
       "0  BOM500002                      ABB India Limited EOD Prices   \n",
       "1  BOM500003                   AEGIS LOGISTICS LTD. EOD Prices   \n",
       "2  BOM500008              AMARA RAJA BATTERIES LTD. EOD Prices   \n",
       "3  BOM500009      AMBALAL SARABHAI ENTERPRISES LTD. EOD Prices   \n",
       "4  BOM500010  HOUSING DEVELOPMENT FINANCE CORP.LTD. EOD Prices   \n",
       "\n",
       "                                         description         refreshed_at  \\\n",
       "0  End of Day prices and additional trading infor...  2021-04-13 14:26:13   \n",
       "1  End of Day prices and additional trading infor...  2021-04-13 14:26:13   \n",
       "2  End of Day prices and additional trading infor...  2021-04-13 14:26:13   \n",
       "3  End of Day prices and additional trading infor...  2021-04-13 14:26:13   \n",
       "4  End of Day prices and additional trading infor...  2021-04-13 14:26:13   \n",
       "\n",
       "    from_date     to_date  \n",
       "0  1992-03-02  2021-04-13  \n",
       "1  1992-03-02  2021-04-13  \n",
       "2  1992-03-02  2021-04-13  \n",
       "3  1992-03-02  2021-04-13  \n",
       "4  1992-01-03  2021-04-13  "
      ]
     },
     "execution_count": 5,
     "metadata": {},
     "output_type": "execute_result"
    }
   ],
   "source": [
    "meta.head()"
   ]
  },
  {
   "cell_type": "code",
   "execution_count": 15,
   "metadata": {},
   "outputs": [
    {
     "data": {
      "text/plain": [
       "305    BOM500875\n",
       "Name: code, dtype: string"
      ]
     },
     "execution_count": 15,
     "metadata": {},
     "output_type": "execute_result"
    }
   ],
   "source": [
    "#Finding the code for desired share\n",
    "\n",
    "search=\"ITC\"\n",
    "\n",
    "meta['code'][meta['name'].str.match(search)].astype('string')"
   ]
  },
  {
   "cell_type": "code",
   "execution_count": 32,
   "metadata": {},
   "outputs": [],
   "source": [
    "#Reading the data from quantl api\n",
    "\n",
    "df= pd.read_csv('https://www.quandl.com/api/v3/datasets/BSE/BOM500875/data.csv?api_key=EsfARrVCG6u1HZRafoqx')\n"
   ]
  },
  {
   "cell_type": "markdown",
   "metadata": {},
   "source": [
    "---"
   ]
  },
  {
   "cell_type": "code",
   "execution_count": 10,
   "metadata": {},
   "outputs": [],
   "source": [
    "#The data has been extracted. Now I just need to visualize the data in a pretty format"
   ]
  },
  {
   "cell_type": "code",
   "execution_count": 33,
   "metadata": {},
   "outputs": [
    {
     "data": {
      "text/html": [
       "<div>\n",
       "<style scoped>\n",
       "    .dataframe tbody tr th:only-of-type {\n",
       "        vertical-align: middle;\n",
       "    }\n",
       "\n",
       "    .dataframe tbody tr th {\n",
       "        vertical-align: top;\n",
       "    }\n",
       "\n",
       "    .dataframe thead th {\n",
       "        text-align: right;\n",
       "    }\n",
       "</style>\n",
       "<table border=\"1\" class=\"dataframe\">\n",
       "  <thead>\n",
       "    <tr style=\"text-align: right;\">\n",
       "      <th></th>\n",
       "      <th>Date</th>\n",
       "      <th>Open</th>\n",
       "      <th>High</th>\n",
       "      <th>Low</th>\n",
       "      <th>Close</th>\n",
       "      <th>WAP</th>\n",
       "      <th>No. of Shares</th>\n",
       "      <th>No. of Trades</th>\n",
       "      <th>Total Turnover</th>\n",
       "      <th>Deliverable Quantity</th>\n",
       "      <th>% Deli. Qty to Traded Qty</th>\n",
       "      <th>Spread H-L</th>\n",
       "      <th>Spread C-O</th>\n",
       "    </tr>\n",
       "  </thead>\n",
       "  <tbody>\n",
       "    <tr>\n",
       "      <th>0</th>\n",
       "      <td>2021-04-13</td>\n",
       "      <td>205.60</td>\n",
       "      <td>209.60</td>\n",
       "      <td>205.60</td>\n",
       "      <td>208.70</td>\n",
       "      <td>207.83</td>\n",
       "      <td>1421100.0</td>\n",
       "      <td>19325.0</td>\n",
       "      <td>295353538.0</td>\n",
       "      <td>555767.0</td>\n",
       "      <td>39.11</td>\n",
       "      <td>4.00</td>\n",
       "      <td>3.10</td>\n",
       "    </tr>\n",
       "    <tr>\n",
       "      <th>1</th>\n",
       "      <td>2021-04-12</td>\n",
       "      <td>210.75</td>\n",
       "      <td>210.75</td>\n",
       "      <td>205.00</td>\n",
       "      <td>205.35</td>\n",
       "      <td>207.32</td>\n",
       "      <td>1255857.0</td>\n",
       "      <td>14911.0</td>\n",
       "      <td>260358028.0</td>\n",
       "      <td>551021.0</td>\n",
       "      <td>43.88</td>\n",
       "      <td>5.75</td>\n",
       "      <td>-5.40</td>\n",
       "    </tr>\n",
       "    <tr>\n",
       "      <th>2</th>\n",
       "      <td>2021-04-09</td>\n",
       "      <td>213.50</td>\n",
       "      <td>215.95</td>\n",
       "      <td>212.65</td>\n",
       "      <td>213.05</td>\n",
       "      <td>214.10</td>\n",
       "      <td>489164.0</td>\n",
       "      <td>5507.0</td>\n",
       "      <td>104729433.0</td>\n",
       "      <td>188591.0</td>\n",
       "      <td>38.55</td>\n",
       "      <td>3.30</td>\n",
       "      <td>-0.45</td>\n",
       "    </tr>\n",
       "    <tr>\n",
       "      <th>3</th>\n",
       "      <td>2021-04-08</td>\n",
       "      <td>214.45</td>\n",
       "      <td>216.15</td>\n",
       "      <td>212.85</td>\n",
       "      <td>213.15</td>\n",
       "      <td>214.00</td>\n",
       "      <td>2143343.0</td>\n",
       "      <td>12726.0</td>\n",
       "      <td>458674887.0</td>\n",
       "      <td>1780005.0</td>\n",
       "      <td>83.05</td>\n",
       "      <td>3.30</td>\n",
       "      <td>-1.30</td>\n",
       "    </tr>\n",
       "    <tr>\n",
       "      <th>4</th>\n",
       "      <td>2021-04-07</td>\n",
       "      <td>212.95</td>\n",
       "      <td>215.25</td>\n",
       "      <td>212.80</td>\n",
       "      <td>213.80</td>\n",
       "      <td>214.03</td>\n",
       "      <td>498245.0</td>\n",
       "      <td>4961.0</td>\n",
       "      <td>106641648.0</td>\n",
       "      <td>121014.0</td>\n",
       "      <td>24.29</td>\n",
       "      <td>2.45</td>\n",
       "      <td>0.85</td>\n",
       "    </tr>\n",
       "  </tbody>\n",
       "</table>\n",
       "</div>"
      ],
      "text/plain": [
       "         Date    Open    High     Low   Close     WAP  No. of Shares  \\\n",
       "0  2021-04-13  205.60  209.60  205.60  208.70  207.83      1421100.0   \n",
       "1  2021-04-12  210.75  210.75  205.00  205.35  207.32      1255857.0   \n",
       "2  2021-04-09  213.50  215.95  212.65  213.05  214.10       489164.0   \n",
       "3  2021-04-08  214.45  216.15  212.85  213.15  214.00      2143343.0   \n",
       "4  2021-04-07  212.95  215.25  212.80  213.80  214.03       498245.0   \n",
       "\n",
       "   No. of Trades  Total Turnover  Deliverable Quantity  \\\n",
       "0        19325.0     295353538.0              555767.0   \n",
       "1        14911.0     260358028.0              551021.0   \n",
       "2         5507.0     104729433.0              188591.0   \n",
       "3        12726.0     458674887.0             1780005.0   \n",
       "4         4961.0     106641648.0              121014.0   \n",
       "\n",
       "   % Deli. Qty to Traded Qty  Spread H-L  Spread C-O  \n",
       "0                      39.11        4.00        3.10  \n",
       "1                      43.88        5.75       -5.40  \n",
       "2                      38.55        3.30       -0.45  \n",
       "3                      83.05        3.30       -1.30  \n",
       "4                      24.29        2.45        0.85  "
      ]
     },
     "execution_count": 33,
     "metadata": {},
     "output_type": "execute_result"
    }
   ],
   "source": [
    "df.head()"
   ]
  },
  {
   "cell_type": "code",
   "execution_count": 43,
   "metadata": {},
   "outputs": [],
   "source": [
    "#importing helpful liberaries\n",
    "\n",
    "import pandas as pd\n",
    "import numpy as np\n",
    "import matplotlib.pyplot as plt\n",
    "import datetime as dt\n",
    "import warnings \n",
    "warnings.filterwarnings('ignore')\n",
    "import seaborn as sns\n",
    "import altair as alt"
   ]
  },
  {
   "cell_type": "code",
   "execution_count": 23,
   "metadata": {},
   "outputs": [],
   "source": [
    "#While creating a visualization I should create a function for every type of graph\n",
    "#so that it becomes easy to expand the code"
   ]
  },
  {
   "cell_type": "code",
   "execution_count": 24,
   "metadata": {},
   "outputs": [
    {
     "data": {
      "text/plain": [
       "(6253, 13)"
      ]
     },
     "execution_count": 24,
     "metadata": {},
     "output_type": "execute_result"
    }
   ],
   "source": [
    "df.shape"
   ]
  },
  {
   "cell_type": "code",
   "execution_count": 34,
   "metadata": {},
   "outputs": [],
   "source": [
    "#Need to select top 90 items from this list as I need to do analysis on last 90 days only\n",
    "\n",
    "last_90_day= df.head(90)"
   ]
  },
  {
   "cell_type": "code",
   "execution_count": 35,
   "metadata": {},
   "outputs": [
    {
     "data": {
      "text/plain": [
       "((90, 13),\n",
       " Index(['Date', 'Open', 'High', 'Low', 'Close', 'WAP', 'No. of Shares',\n",
       "        'No. of Trades', 'Total Turnover', 'Deliverable Quantity',\n",
       "        '% Deli. Qty to Traded Qty', 'Spread H-L', 'Spread C-O'],\n",
       "       dtype='object'))"
      ]
     },
     "execution_count": 35,
     "metadata": {},
     "output_type": "execute_result"
    }
   ],
   "source": [
    "last_90_day.shape, last_90_day.columns"
   ]
  },
  {
   "cell_type": "code",
   "execution_count": 28,
   "metadata": {},
   "outputs": [
    {
     "name": "stdout",
     "output_type": "stream",
     "text": [
      "<class 'pandas.core.frame.DataFrame'>\n",
      "RangeIndex: 90 entries, 0 to 89\n",
      "Data columns (total 13 columns):\n",
      " #   Column                     Non-Null Count  Dtype  \n",
      "---  ------                     --------------  -----  \n",
      " 0   Date                       90 non-null     object \n",
      " 1   Open                       90 non-null     float64\n",
      " 2   High                       90 non-null     float64\n",
      " 3   Low                        90 non-null     float64\n",
      " 4   Close                      90 non-null     float64\n",
      " 5   WAP                        90 non-null     float64\n",
      " 6   No. of Shares              90 non-null     float64\n",
      " 7   No. of Trades              90 non-null     float64\n",
      " 8   Total Turnover             90 non-null     float64\n",
      " 9   Deliverable Quantity       90 non-null     float64\n",
      " 10  % Deli. Qty to Traded Qty  90 non-null     float64\n",
      " 11  Spread H-L                 90 non-null     float64\n",
      " 12  Spread C-O                 90 non-null     float64\n",
      "dtypes: float64(12), object(1)\n",
      "memory usage: 9.3+ KB\n"
     ]
    }
   ],
   "source": [
    "last_90_day.info() #date is mentioned as a object. Need to convert the same to Datetime"
   ]
  },
  {
   "cell_type": "code",
   "execution_count": 29,
   "metadata": {},
   "outputs": [
    {
     "name": "stdout",
     "output_type": "stream",
     "text": [
      "<class 'pandas.core.frame.DataFrame'>\n",
      "RangeIndex: 90 entries, 0 to 89\n",
      "Data columns (total 13 columns):\n",
      " #   Column                     Non-Null Count  Dtype         \n",
      "---  ------                     --------------  -----         \n",
      " 0   Date                       90 non-null     datetime64[ns]\n",
      " 1   Open                       90 non-null     float64       \n",
      " 2   High                       90 non-null     float64       \n",
      " 3   Low                        90 non-null     float64       \n",
      " 4   Close                      90 non-null     float64       \n",
      " 5   WAP                        90 non-null     float64       \n",
      " 6   No. of Shares              90 non-null     float64       \n",
      " 7   No. of Trades              90 non-null     float64       \n",
      " 8   Total Turnover             90 non-null     float64       \n",
      " 9   Deliverable Quantity       90 non-null     float64       \n",
      " 10  % Deli. Qty to Traded Qty  90 non-null     float64       \n",
      " 11  Spread H-L                 90 non-null     float64       \n",
      " 12  Spread C-O                 90 non-null     float64       \n",
      "dtypes: datetime64[ns](1), float64(12)\n",
      "memory usage: 9.3 KB\n"
     ]
    }
   ],
   "source": [
    "last_90_day['Date']=pd.to_datetime(last_90_day['Date'])\n",
    "last_90_day.info() # Date time successfully converted"
   ]
  },
  {
   "cell_type": "code",
   "execution_count": 39,
   "metadata": {},
   "outputs": [
    {
     "data": {
      "text/html": [
       "<div>\n",
       "<style scoped>\n",
       "    .dataframe tbody tr th:only-of-type {\n",
       "        vertical-align: middle;\n",
       "    }\n",
       "\n",
       "    .dataframe tbody tr th {\n",
       "        vertical-align: top;\n",
       "    }\n",
       "\n",
       "    .dataframe thead th {\n",
       "        text-align: right;\n",
       "    }\n",
       "</style>\n",
       "<table border=\"1\" class=\"dataframe\">\n",
       "  <thead>\n",
       "    <tr style=\"text-align: right;\">\n",
       "      <th></th>\n",
       "      <th>Open</th>\n",
       "      <th>High</th>\n",
       "      <th>Low</th>\n",
       "      <th>Close</th>\n",
       "      <th>WAP</th>\n",
       "      <th>No. of Shares</th>\n",
       "      <th>No. of Trades</th>\n",
       "      <th>Total Turnover</th>\n",
       "      <th>Deliverable Quantity</th>\n",
       "      <th>% Deli. Qty to Traded Qty</th>\n",
       "      <th>Spread H-L</th>\n",
       "      <th>Spread C-O</th>\n",
       "    </tr>\n",
       "  </thead>\n",
       "  <tbody>\n",
       "    <tr>\n",
       "      <th>count</th>\n",
       "      <td>90</td>\n",
       "      <td>90</td>\n",
       "      <td>90</td>\n",
       "      <td>90</td>\n",
       "      <td>90</td>\n",
       "      <td>90</td>\n",
       "      <td>90</td>\n",
       "      <td>90</td>\n",
       "      <td>90</td>\n",
       "      <td>90</td>\n",
       "      <td>90</td>\n",
       "      <td>90</td>\n",
       "    </tr>\n",
       "    <tr>\n",
       "      <th>mean</th>\n",
       "      <td>212</td>\n",
       "      <td>215</td>\n",
       "      <td>209</td>\n",
       "      <td>212</td>\n",
       "      <td>212</td>\n",
       "      <td>2076141</td>\n",
       "      <td>18767</td>\n",
       "      <td>442397520</td>\n",
       "      <td>832314</td>\n",
       "      <td>38</td>\n",
       "      <td>5</td>\n",
       "      <td>0</td>\n",
       "    </tr>\n",
       "    <tr>\n",
       "      <th>std</th>\n",
       "      <td>7</td>\n",
       "      <td>8</td>\n",
       "      <td>7</td>\n",
       "      <td>7</td>\n",
       "      <td>7</td>\n",
       "      <td>1257286</td>\n",
       "      <td>12136</td>\n",
       "      <td>275403348</td>\n",
       "      <td>592313</td>\n",
       "      <td>11</td>\n",
       "      <td>2</td>\n",
       "      <td>3</td>\n",
       "    </tr>\n",
       "    <tr>\n",
       "      <th>min</th>\n",
       "      <td>195</td>\n",
       "      <td>197</td>\n",
       "      <td>193</td>\n",
       "      <td>195</td>\n",
       "      <td>196</td>\n",
       "      <td>489164</td>\n",
       "      <td>4961</td>\n",
       "      <td>104729433</td>\n",
       "      <td>121014</td>\n",
       "      <td>20</td>\n",
       "      <td>1</td>\n",
       "      <td>-11</td>\n",
       "    </tr>\n",
       "    <tr>\n",
       "      <th>25%</th>\n",
       "      <td>207</td>\n",
       "      <td>210</td>\n",
       "      <td>204</td>\n",
       "      <td>207</td>\n",
       "      <td>207</td>\n",
       "      <td>1128239</td>\n",
       "      <td>8727</td>\n",
       "      <td>233219772</td>\n",
       "      <td>368761</td>\n",
       "      <td>29</td>\n",
       "      <td>3</td>\n",
       "      <td>-2</td>\n",
       "    </tr>\n",
       "    <tr>\n",
       "      <th>50%</th>\n",
       "      <td>212</td>\n",
       "      <td>214</td>\n",
       "      <td>209</td>\n",
       "      <td>211</td>\n",
       "      <td>211</td>\n",
       "      <td>1788298</td>\n",
       "      <td>16241</td>\n",
       "      <td>373001433</td>\n",
       "      <td>630082</td>\n",
       "      <td>37</td>\n",
       "      <td>4</td>\n",
       "      <td>0</td>\n",
       "    </tr>\n",
       "    <tr>\n",
       "      <th>75%</th>\n",
       "      <td>217</td>\n",
       "      <td>219</td>\n",
       "      <td>213</td>\n",
       "      <td>216</td>\n",
       "      <td>216</td>\n",
       "      <td>2549552</td>\n",
       "      <td>23982</td>\n",
       "      <td>541278061</td>\n",
       "      <td>1179517</td>\n",
       "      <td>43</td>\n",
       "      <td>6</td>\n",
       "      <td>1</td>\n",
       "    </tr>\n",
       "    <tr>\n",
       "      <th>max</th>\n",
       "      <td>237</td>\n",
       "      <td>239</td>\n",
       "      <td>231</td>\n",
       "      <td>234</td>\n",
       "      <td>234</td>\n",
       "      <td>6876919</td>\n",
       "      <td>58872</td>\n",
       "      <td>1607514549</td>\n",
       "      <td>2535600</td>\n",
       "      <td>83</td>\n",
       "      <td>16</td>\n",
       "      <td>13</td>\n",
       "    </tr>\n",
       "  </tbody>\n",
       "</table>\n",
       "</div>"
      ],
      "text/plain": [
       "       Open  High  Low  Close  WAP  No. of Shares  No. of Trades  \\\n",
       "count    90    90   90     90   90             90             90   \n",
       "mean    212   215  209    212  212        2076141          18767   \n",
       "std       7     8    7      7    7        1257286          12136   \n",
       "min     195   197  193    195  196         489164           4961   \n",
       "25%     207   210  204    207  207        1128239           8727   \n",
       "50%     212   214  209    211  211        1788298          16241   \n",
       "75%     217   219  213    216  216        2549552          23982   \n",
       "max     237   239  231    234  234        6876919          58872   \n",
       "\n",
       "       Total Turnover  Deliverable Quantity  % Deli. Qty to Traded Qty  \\\n",
       "count              90                    90                         90   \n",
       "mean        442397520                832314                         38   \n",
       "std         275403348                592313                         11   \n",
       "min         104729433                121014                         20   \n",
       "25%         233219772                368761                         29   \n",
       "50%         373001433                630082                         37   \n",
       "75%         541278061               1179517                         43   \n",
       "max        1607514549               2535600                         83   \n",
       "\n",
       "       Spread H-L  Spread C-O  \n",
       "count          90          90  \n",
       "mean            5           0  \n",
       "std             2           3  \n",
       "min             1         -11  \n",
       "25%             3          -2  \n",
       "50%             4           0  \n",
       "75%             6           1  \n",
       "max            16          13  "
      ]
     },
     "execution_count": 39,
     "metadata": {},
     "output_type": "execute_result"
    }
   ],
   "source": [
    "#Checking the data in terms of numbers\n",
    "last_90_day.describe().astype(int)"
   ]
  },
  {
   "cell_type": "code",
   "execution_count": 40,
   "metadata": {},
   "outputs": [],
   "source": [
    "#creating a function for this data\n",
    "#this function provides important summary data\n",
    "\n",
    "def summary_90_day(df):\n",
    "    return df.describe().astype(int)"
   ]
  },
  {
   "cell_type": "code",
   "execution_count": 60,
   "metadata": {},
   "outputs": [
    {
     "data": {
      "text/html": [
       "\n",
       "<div id=\"altair-viz-626a97ce6d41405e8c8225dbaee4f925\"></div>\n",
       "<script type=\"text/javascript\">\n",
       "  (function(spec, embedOpt){\n",
       "    let outputDiv = document.currentScript.previousElementSibling;\n",
       "    if (outputDiv.id !== \"altair-viz-626a97ce6d41405e8c8225dbaee4f925\") {\n",
       "      outputDiv = document.getElementById(\"altair-viz-626a97ce6d41405e8c8225dbaee4f925\");\n",
       "    }\n",
       "    const paths = {\n",
       "      \"vega\": \"https://cdn.jsdelivr.net/npm//vega@5?noext\",\n",
       "      \"vega-lib\": \"https://cdn.jsdelivr.net/npm//vega-lib?noext\",\n",
       "      \"vega-lite\": \"https://cdn.jsdelivr.net/npm//vega-lite@4.8.1?noext\",\n",
       "      \"vega-embed\": \"https://cdn.jsdelivr.net/npm//vega-embed@6?noext\",\n",
       "    };\n",
       "\n",
       "    function loadScript(lib) {\n",
       "      return new Promise(function(resolve, reject) {\n",
       "        var s = document.createElement('script');\n",
       "        s.src = paths[lib];\n",
       "        s.async = true;\n",
       "        s.onload = () => resolve(paths[lib]);\n",
       "        s.onerror = () => reject(`Error loading script: ${paths[lib]}`);\n",
       "        document.getElementsByTagName(\"head\")[0].appendChild(s);\n",
       "      });\n",
       "    }\n",
       "\n",
       "    function showError(err) {\n",
       "      outputDiv.innerHTML = `<div class=\"error\" style=\"color:red;\">${err}</div>`;\n",
       "      throw err;\n",
       "    }\n",
       "\n",
       "    function displayChart(vegaEmbed) {\n",
       "      vegaEmbed(outputDiv, spec, embedOpt)\n",
       "        .catch(err => showError(`Javascript Error: ${err.message}<br>This usually means there's a typo in your chart specification. See the javascript console for the full traceback.`));\n",
       "    }\n",
       "\n",
       "    if(typeof define === \"function\" && define.amd) {\n",
       "      requirejs.config({paths});\n",
       "      require([\"vega-embed\"], displayChart, err => showError(`Error loading script: ${err.message}`));\n",
       "    } else if (typeof vegaEmbed === \"function\") {\n",
       "      displayChart(vegaEmbed);\n",
       "    } else {\n",
       "      loadScript(\"vega\")\n",
       "        .then(() => loadScript(\"vega-lite\"))\n",
       "        .then(() => loadScript(\"vega-embed\"))\n",
       "        .catch(showError)\n",
       "        .then(() => displayChart(vegaEmbed));\n",
       "    }\n",
       "  })({\"config\": {\"view\": {\"continuousWidth\": 400, \"continuousHeight\": 300}}, \"layer\": [{\"mark\": \"line\", \"encoding\": {\"x\": {\"type\": \"nominal\", \"field\": \"Date\"}, \"y\": {\"type\": \"quantitative\", \"field\": \"WAP\"}}, \"width\": 1000}, {\"mark\": \"rule\", \"encoding\": {\"size\": {\"value\": 2}, \"y\": {\"type\": \"quantitative\", \"aggregate\": \"average\", \"field\": \"WAP\"}}, \"width\": 1000}], \"data\": {\"name\": \"data-e98e6dfd8817968dff77559b951c3cfd\"}, \"$schema\": \"https://vega.github.io/schema/vega-lite/v4.8.1.json\", \"datasets\": {\"data-e98e6dfd8817968dff77559b951c3cfd\": [{\"Date\": \"2021-04-13\", \"Open\": 205.6, \"High\": 209.6, \"Low\": 205.6, \"Close\": 208.7, \"WAP\": 207.83, \"No. of Shares\": 1421100.0, \"No. of Trades\": 19325.0, \"Total Turnover\": 295353538.0, \"Deliverable Quantity\": 555767.0, \"% Deli. Qty to Traded Qty\": 39.11, \"Spread H-L\": 4.0, \"Spread C-O\": 3.1}, {\"Date\": \"2021-04-12\", \"Open\": 210.75, \"High\": 210.75, \"Low\": 205.0, \"Close\": 205.35, \"WAP\": 207.32, \"No. of Shares\": 1255857.0, \"No. of Trades\": 14911.0, \"Total Turnover\": 260358028.0, \"Deliverable Quantity\": 551021.0, \"% Deli. Qty to Traded Qty\": 43.88, \"Spread H-L\": 5.75, \"Spread C-O\": -5.4}, {\"Date\": \"2021-04-09\", \"Open\": 213.5, \"High\": 215.95, \"Low\": 212.65, \"Close\": 213.05, \"WAP\": 214.1, \"No. of Shares\": 489164.0, \"No. of Trades\": 5507.0, \"Total Turnover\": 104729433.0, \"Deliverable Quantity\": 188591.0, \"% Deli. Qty to Traded Qty\": 38.55, \"Spread H-L\": 3.3, \"Spread C-O\": -0.45}, {\"Date\": \"2021-04-08\", \"Open\": 214.45, \"High\": 216.15, \"Low\": 212.85, \"Close\": 213.15, \"WAP\": 214.0, \"No. of Shares\": 2143343.0, \"No. of Trades\": 12726.0, \"Total Turnover\": 458674887.0, \"Deliverable Quantity\": 1780005.0, \"% Deli. Qty to Traded Qty\": 83.05, \"Spread H-L\": 3.3, \"Spread C-O\": -1.3}, {\"Date\": \"2021-04-07\", \"Open\": 212.95, \"High\": 215.25, \"Low\": 212.8, \"Close\": 213.8, \"WAP\": 214.03, \"No. of Shares\": 498245.0, \"No. of Trades\": 4961.0, \"Total Turnover\": 106641648.0, \"Deliverable Quantity\": 121014.0, \"% Deli. Qty to Traded Qty\": 24.29, \"Spread H-L\": 2.45, \"Spread C-O\": 0.85}, {\"Date\": \"2021-04-06\", \"Open\": 213.6, \"High\": 214.95, \"Low\": 210.0, \"Close\": 212.6, \"WAP\": 212.59, \"No. of Shares\": 1586360.0, \"No. of Trades\": 17020.0, \"Total Turnover\": 337241410.0, \"Deliverable Quantity\": 493597.0, \"% Deli. Qty to Traded Qty\": 31.12, \"Spread H-L\": 4.95, \"Spread C-O\": -1.0}, {\"Date\": \"2021-04-05\", \"Open\": 218.0, \"High\": 219.35, \"Low\": 210.5, \"Close\": 212.6, \"WAP\": 213.75, \"No. of Shares\": 996695.0, \"No. of Trades\": 10784.0, \"Total Turnover\": 213048516.0, \"Deliverable Quantity\": 349309.0, \"% Deli. Qty to Traded Qty\": 35.05, \"Spread H-L\": 8.85, \"Spread C-O\": -5.4}, {\"Date\": \"2021-04-01\", \"Open\": 219.85, \"High\": 220.55, \"Low\": 217.25, \"Close\": 220.05, \"WAP\": 219.29, \"No. of Shares\": 670575.0, \"No. of Trades\": 6560.0, \"Total Turnover\": 147048466.0, \"Deliverable Quantity\": 158338.0, \"% Deli. Qty to Traded Qty\": 23.61, \"Spread H-L\": 3.3, \"Spread C-O\": 0.2}, {\"Date\": \"2021-03-31\", \"Open\": 213.5, \"High\": 219.2, \"Low\": 212.7, \"Close\": 218.5, \"WAP\": 217.2, \"No. of Shares\": 2133571.0, \"No. of Trades\": 17416.0, \"Total Turnover\": 463401860.0, \"Deliverable Quantity\": 843661.0, \"% Deli. Qty to Traded Qty\": 39.54, \"Spread H-L\": 6.5, \"Spread C-O\": 5.0}, {\"Date\": \"2021-03-30\", \"Open\": 212.7, \"High\": 215.0, \"Low\": 210.4, \"Close\": 214.6, \"WAP\": 212.51, \"No. of Shares\": 955327.0, \"No. of Trades\": 7340.0, \"Total Turnover\": 203015231.0, \"Deliverable Quantity\": 236232.0, \"% Deli. Qty to Traded Qty\": 24.73, \"Spread H-L\": 4.6, \"Spread C-O\": 1.9}, {\"Date\": \"2021-03-26\", \"Open\": 213.85, \"High\": 214.6, \"Low\": 210.6, \"Close\": 210.9, \"WAP\": 212.31, \"No. of Shares\": 979827.0, \"No. of Trades\": 7834.0, \"Total Turnover\": 208031689.0, \"Deliverable Quantity\": 375294.0, \"% Deli. Qty to Traded Qty\": 38.3, \"Spread H-L\": 4.0, \"Spread C-O\": -2.95}, {\"Date\": \"2021-03-25\", \"Open\": 215.2, \"High\": 215.55, \"Low\": 209.1, \"Close\": 211.25, \"WAP\": 211.71, \"No. of Shares\": 2631342.0, \"No. of Trades\": 33535.0, \"Total Turnover\": 557088732.0, \"Deliverable Quantity\": 1272216.0, \"% Deli. Qty to Traded Qty\": 48.35, \"Spread H-L\": 6.45, \"Spread C-O\": -3.95}, {\"Date\": \"2021-03-24\", \"Open\": 221.45, \"High\": 222.85, \"Low\": 215.35, \"Close\": 216.05, \"WAP\": 218.97, \"No. of Shares\": 940290.0, \"No. of Trades\": 8934.0, \"Total Turnover\": 205897871.0, \"Deliverable Quantity\": 277082.0, \"% Deli. Qty to Traded Qty\": 29.47, \"Spread H-L\": 7.5, \"Spread C-O\": -5.4}, {\"Date\": \"2021-03-23\", \"Open\": 225.6, \"High\": 228.1, \"Low\": 221.4, \"Close\": 222.15, \"WAP\": 224.49, \"No. of Shares\": 1385868.0, \"No. of Trades\": 10879.0, \"Total Turnover\": 311109287.0, \"Deliverable Quantity\": 313927.0, \"% Deli. Qty to Traded Qty\": 22.65, \"Spread H-L\": 6.7, \"Spread C-O\": -3.45}, {\"Date\": \"2021-03-22\", \"Open\": 223.55, \"High\": 226.4, \"Low\": 221.3, \"Close\": 226.0, \"WAP\": 224.2, \"No. of Shares\": 3394798.0, \"No. of Trades\": 32931.0, \"Total Turnover\": 761106454.0, \"Deliverable Quantity\": 1846537.0, \"% Deli. Qty to Traded Qty\": 54.39, \"Spread H-L\": 5.1, \"Spread C-O\": 2.45}, {\"Date\": \"2021-03-19\", \"Open\": 219.4, \"High\": 226.15, \"Low\": 215.6, \"Close\": 223.1, \"WAP\": 221.73, \"No. of Shares\": 4259219.0, \"No. of Trades\": 35906.0, \"Total Turnover\": 944414653.0, \"Deliverable Quantity\": 1358949.0, \"% Deli. Qty to Traded Qty\": 31.91, \"Spread H-L\": 10.55, \"Spread C-O\": 3.7}, {\"Date\": \"2021-03-18\", \"Open\": 213.35, \"High\": 219.0, \"Low\": 211.9, \"Close\": 217.4, \"WAP\": 215.27, \"No. of Shares\": 2159847.0, \"No. of Trades\": 18069.0, \"Total Turnover\": 464951911.0, \"Deliverable Quantity\": 621667.0, \"% Deli. Qty to Traded Qty\": 28.78, \"Spread H-L\": 7.1, \"Spread C-O\": 4.05}, {\"Date\": \"2021-03-17\", \"Open\": 212.05, \"High\": 213.8, \"Low\": 208.5, \"Close\": 210.55, \"WAP\": 211.36, \"No. of Shares\": 4771340.0, \"No. of Trades\": 41750.0, \"Total Turnover\": 1008477575.0, \"Deliverable Quantity\": 2312783.0, \"% Deli. Qty to Traded Qty\": 48.47, \"Spread H-L\": 5.3, \"Spread C-O\": -1.5}, {\"Date\": \"2021-03-16\", \"Open\": 205.8, \"High\": 208.8, \"Low\": 204.95, \"Close\": 208.05, \"WAP\": 207.42, \"No. of Shares\": 2241051.0, \"No. of Trades\": 19671.0, \"Total Turnover\": 464844721.0, \"Deliverable Quantity\": 905362.0, \"% Deli. Qty to Traded Qty\": 40.4, \"Spread H-L\": 3.85, \"Spread C-O\": 2.25}, {\"Date\": \"2021-03-15\", \"Open\": 206.0, \"High\": 206.0, \"Low\": 201.6, \"Close\": 205.45, \"WAP\": 203.28, \"No. of Shares\": 2602625.0, \"No. of Trades\": 37684.0, \"Total Turnover\": 529053625.0, \"Deliverable Quantity\": 924766.0, \"% Deli. Qty to Traded Qty\": 35.53, \"Spread H-L\": 4.4, \"Spread C-O\": -0.55}, {\"Date\": \"2021-03-12\", \"Open\": 208.0, \"High\": 208.0, \"Low\": 203.6, \"Close\": 205.25, \"WAP\": 206.17, \"No. of Shares\": 775641.0, \"No. of Trades\": 7532.0, \"Total Turnover\": 159910578.0, \"Deliverable Quantity\": 384780.0, \"% Deli. Qty to Traded Qty\": 49.61, \"Spread H-L\": 4.4, \"Spread C-O\": -2.75}, {\"Date\": \"2021-03-10\", \"Open\": 209.45, \"High\": 209.45, \"Low\": 205.85, \"Close\": 206.45, \"WAP\": 206.86, \"No. of Shares\": 716887.0, \"No. of Trades\": 5696.0, \"Total Turnover\": 148295377.0, \"Deliverable Quantity\": 232317.0, \"% Deli. Qty to Traded Qty\": 32.41, \"Spread H-L\": 3.6, \"Spread C-O\": -3.0}, {\"Date\": \"2021-03-09\", \"Open\": 208.15, \"High\": 209.6, \"Low\": 204.8, \"Close\": 207.75, \"WAP\": 207.37, \"No. of Shares\": 1361307.0, \"No. of Trades\": 19710.0, \"Total Turnover\": 282289969.0, \"Deliverable Quantity\": 520340.0, \"% Deli. Qty to Traded Qty\": 38.22, \"Spread H-L\": 4.8, \"Spread C-O\": -0.4}, {\"Date\": \"2021-03-08\", \"Open\": 210.0, \"High\": 210.75, \"Low\": 207.7, \"Close\": 208.05, \"WAP\": 208.96, \"No. of Shares\": 1415977.0, \"No. of Trades\": 18166.0, \"Total Turnover\": 295881401.0, \"Deliverable Quantity\": 642626.0, \"% Deli. Qty to Traded Qty\": 45.38, \"Spread H-L\": 3.05, \"Spread C-O\": -1.95}, {\"Date\": \"2021-03-05\", \"Open\": 208.3, \"High\": 209.95, \"Low\": 207.3, \"Close\": 208.75, \"WAP\": 208.65, \"No. of Shares\": 1542254.0, \"No. of Trades\": 18526.0, \"Total Turnover\": 321787781.0, \"Deliverable Quantity\": 666242.0, \"% Deli. Qty to Traded Qty\": 43.2, \"Spread H-L\": 2.65, \"Spread C-O\": 0.45}, {\"Date\": \"2021-03-04\", \"Open\": 209.65, \"High\": 211.25, \"Low\": 207.6, \"Close\": 209.7, \"WAP\": 209.27, \"No. of Shares\": 1799370.0, \"No. of Trades\": 7465.0, \"Total Turnover\": 376551112.0, \"Deliverable Quantity\": 1188987.0, \"% Deli. Qty to Traded Qty\": 66.08, \"Spread H-L\": 3.65, \"Spread C-O\": 0.05}, {\"Date\": \"2021-03-03\", \"Open\": 211.95, \"High\": 211.95, \"Low\": 208.8, \"Close\": 209.9, \"WAP\": 210.22, \"No. of Shares\": 822713.0, \"No. of Trades\": 6504.0, \"Total Turnover\": 172947791.0, \"Deliverable Quantity\": 302075.0, \"% Deli. Qty to Traded Qty\": 36.72, \"Spread H-L\": 3.15, \"Spread C-O\": -2.05}, {\"Date\": \"2021-03-02\", \"Open\": 206.9, \"High\": 210.8, \"Low\": 206.4, \"Close\": 209.8, \"WAP\": 209.47, \"No. of Shares\": 2038121.0, \"No. of Trades\": 19848.0, \"Total Turnover\": 426920322.0, \"Deliverable Quantity\": 849996.0, \"% Deli. Qty to Traded Qty\": 41.7, \"Spread H-L\": 4.4, \"Spread C-O\": 2.9}, {\"Date\": \"2021-03-01\", \"Open\": 205.0, \"High\": 207.7, \"Low\": 204.05, \"Close\": 206.9, \"WAP\": 206.01, \"No. of Shares\": 1702725.0, \"No. of Trades\": 24997.0, \"Total Turnover\": 350785365.0, \"Deliverable Quantity\": 665568.0, \"% Deli. Qty to Traded Qty\": 39.09, \"Spread H-L\": 3.65, \"Spread C-O\": 1.9}, {\"Date\": \"2021-02-26\", \"Open\": 207.95, \"High\": 207.95, \"Low\": 203.1, \"Close\": 204.05, \"WAP\": 205.78, \"No. of Shares\": 1335305.0, \"No. of Trades\": 14316.0, \"Total Turnover\": 274781849.0, \"Deliverable Quantity\": 634717.0, \"% Deli. Qty to Traded Qty\": 47.53, \"Spread H-L\": 4.85, \"Spread C-O\": -3.9}, {\"Date\": \"2021-02-25\", \"Open\": 209.8, \"High\": 211.2, \"Low\": 208.9, \"Close\": 209.15, \"WAP\": 209.69, \"No. of Shares\": 2319664.0, \"No. of Trades\": 7449.0, \"Total Turnover\": 486411682.0, \"Deliverable Quantity\": 1480099.0, \"% Deli. Qty to Traded Qty\": 63.81, \"Spread H-L\": 2.3, \"Spread C-O\": -0.65}, {\"Date\": \"2021-02-24\", \"Open\": 209.0, \"High\": 209.8, \"Low\": 200.2, \"Close\": 208.8, \"WAP\": 207.34, \"No. of Shares\": 3459114.0, \"No. of Trades\": 29718.0, \"Total Turnover\": 717201065.0, \"Deliverable Quantity\": 2013100.0, \"% Deli. Qty to Traded Qty\": 58.2, \"Spread H-L\": 9.6, \"Spread C-O\": -0.2}, {\"Date\": \"2021-02-23\", \"Open\": 207.55, \"High\": 210.55, \"Low\": 206.9, \"Close\": 208.5, \"WAP\": 208.88, \"No. of Shares\": 1677820.0, \"No. of Trades\": 21356.0, \"Total Turnover\": 350470199.0, \"Deliverable Quantity\": 575074.0, \"% Deli. Qty to Traded Qty\": 34.28, \"Spread H-L\": 3.65, \"Spread C-O\": 0.95}, {\"Date\": \"2021-02-22\", \"Open\": 211.6, \"High\": 212.25, \"Low\": 206.0, \"Close\": 207.1, \"WAP\": 207.88, \"No. of Shares\": 1777226.0, \"No. of Trades\": 18603.0, \"Total Turnover\": 369451755.0, \"Deliverable Quantity\": 698060.0, \"% Deli. Qty to Traded Qty\": 39.28, \"Spread H-L\": 6.25, \"Spread C-O\": -4.5}, {\"Date\": \"2021-02-19\", \"Open\": 218.9, \"High\": 219.0, \"Low\": 213.9, \"Close\": 215.95, \"WAP\": 216.88, \"No. of Shares\": 1869626.0, \"No. of Trades\": 26249.0, \"Total Turnover\": 405487836.0, \"Deliverable Quantity\": 902793.0, \"% Deli. Qty to Traded Qty\": 48.29, \"Spread H-L\": 5.1, \"Spread C-O\": -2.95}, {\"Date\": \"2021-02-18\", \"Open\": 217.85, \"High\": 220.65, \"Low\": 217.85, \"Close\": 218.9, \"WAP\": 219.25, \"No. of Shares\": 654901.0, \"No. of Trades\": 6199.0, \"Total Turnover\": 143588791.0, \"Deliverable Quantity\": 179595.0, \"% Deli. Qty to Traded Qty\": 27.42, \"Spread H-L\": 2.8, \"Spread C-O\": 1.05}, {\"Date\": \"2021-02-17\", \"Open\": 218.3, \"High\": 218.4, \"Low\": 216.6, \"Close\": 217.65, \"WAP\": 217.41, \"No. of Shares\": 745784.0, \"No. of Trades\": 6013.0, \"Total Turnover\": 162141098.0, \"Deliverable Quantity\": 291027.0, \"% Deli. Qty to Traded Qty\": 39.02, \"Spread H-L\": 1.8, \"Spread C-O\": -0.65}, {\"Date\": \"2021-02-16\", \"Open\": 220.0, \"High\": 221.8, \"Low\": 217.3, \"Close\": 218.25, \"WAP\": 219.38, \"No. of Shares\": 2271194.0, \"No. of Trades\": 21713.0, \"Total Turnover\": 498261359.0, \"Deliverable Quantity\": 668514.0, \"% Deli. Qty to Traded Qty\": 29.43, \"Spread H-L\": 4.5, \"Spread C-O\": -1.75}, {\"Date\": \"2021-02-15\", \"Open\": 219.7, \"High\": 221.0, \"Low\": 217.5, \"Close\": 218.65, \"WAP\": 219.12, \"No. of Shares\": 1356457.0, \"No. of Trades\": 9934.0, \"Total Turnover\": 297225186.0, \"Deliverable Quantity\": 366584.0, \"% Deli. Qty to Traded Qty\": 27.03, \"Spread H-L\": 3.5, \"Spread C-O\": -1.05}, {\"Date\": \"2021-02-12\", \"Open\": 225.95, \"High\": 225.95, \"Low\": 215.8, \"Close\": 217.45, \"WAP\": 218.52, \"No. of Shares\": 3410440.0, \"No. of Trades\": 26515.0, \"Total Turnover\": 745241118.0, \"Deliverable Quantity\": 1046599.0, \"% Deli. Qty to Traded Qty\": 30.69, \"Spread H-L\": 10.15, \"Spread C-O\": -8.5}, {\"Date\": \"2021-02-11\", \"Open\": 229.2, \"High\": 229.3, \"Low\": 224.5, \"Close\": 226.45, \"WAP\": 226.57, \"No. of Shares\": 2604153.0, \"No. of Trades\": 24757.0, \"Total Turnover\": 590017994.0, \"Deliverable Quantity\": 1144939.0, \"% Deli. Qty to Traded Qty\": 43.97, \"Spread H-L\": 4.8, \"Spread C-O\": -2.75}, {\"Date\": \"2021-02-10\", \"Open\": 229.0, \"High\": 231.0, \"Low\": 223.1, \"Close\": 227.65, \"WAP\": 227.59, \"No. of Shares\": 1593034.0, \"No. of Trades\": 11539.0, \"Total Turnover\": 362565104.0, \"Deliverable Quantity\": 458692.0, \"% Deli. Qty to Traded Qty\": 28.79, \"Spread H-L\": 7.9, \"Spread C-O\": -1.35}, {\"Date\": \"2021-02-09\", \"Open\": 234.45, \"High\": 239.15, \"Low\": 228.3, \"Close\": 229.0, \"WAP\": 233.47, \"No. of Shares\": 2375542.0, \"No. of Trades\": 15710.0, \"Total Turnover\": 554624454.0, \"Deliverable Quantity\": 522755.0, \"% Deli. Qty to Traded Qty\": 22.01, \"Spread H-L\": 10.85, \"Spread C-O\": -5.45}, {\"Date\": \"2021-02-08\", \"Open\": 237.9, \"High\": 238.0, \"Low\": 231.5, \"Close\": 233.1, \"WAP\": 234.36, \"No. of Shares\": 1450856.0, \"No. of Trades\": 12456.0, \"Total Turnover\": 340020609.0, \"Deliverable Quantity\": 417517.0, \"% Deli. Qty to Traded Qty\": 28.78, \"Spread H-L\": 6.5, \"Spread C-O\": -4.8}, {\"Date\": \"2021-02-05\", \"Open\": 232.0, \"High\": 238.8, \"Low\": 227.25, \"Close\": 234.25, \"WAP\": 233.76, \"No. of Shares\": 6876919.0, \"No. of Trades\": 55074.0, \"Total Turnover\": 1607514549.0, \"Deliverable Quantity\": 1810611.0, \"% Deli. Qty to Traded Qty\": 26.33, \"Spread H-L\": 11.55, \"Spread C-O\": 2.25}, {\"Date\": \"2021-02-04\", \"Open\": 216.7, \"High\": 231.45, \"Low\": 216.0, \"Close\": 230.0, \"WAP\": 223.99, \"No. of Shares\": 5181623.0, \"No. of Trades\": 24618.0, \"Total Turnover\": 1160607775.0, \"Deliverable Quantity\": 2086270.0, \"% Deli. Qty to Traded Qty\": 40.26, \"Spread H-L\": 15.45, \"Spread C-O\": 13.3}, {\"Date\": \"2021-02-03\", \"Open\": 221.5, \"High\": 222.0, \"Low\": 215.65, \"Close\": 216.75, \"WAP\": 218.0, \"No. of Shares\": 2493081.0, \"No. of Trades\": 26447.0, \"Total Turnover\": 543480848.0, \"Deliverable Quantity\": 788383.0, \"% Deli. Qty to Traded Qty\": 31.62, \"Spread H-L\": 6.35, \"Spread C-O\": -4.75}, {\"Date\": \"2021-02-02\", \"Open\": 219.95, \"High\": 223.4, \"Low\": 216.9, \"Close\": 218.2, \"WAP\": 219.87, \"No. of Shares\": 3551195.0, \"No. of Trades\": 36783.0, \"Total Turnover\": 780802998.0, \"Deliverable Quantity\": 1520534.0, \"% Deli. Qty to Traded Qty\": 42.82, \"Spread H-L\": 6.5, \"Spread C-O\": -1.75}, {\"Date\": \"2021-02-01\", \"Open\": 205.0, \"High\": 217.85, \"Low\": 201.8, \"Close\": 215.95, \"WAP\": 210.78, \"No. of Shares\": 2359184.0, \"No. of Trades\": 20864.0, \"Total Turnover\": 497279595.0, \"Deliverable Quantity\": 485425.0, \"% Deli. Qty to Traded Qty\": 20.58, \"Spread H-L\": 16.05, \"Spread C-O\": 10.95}, {\"Date\": \"2021-01-29\", \"Open\": 208.15, \"High\": 208.7, \"Low\": 202.45, \"Close\": 203.25, \"WAP\": 205.53, \"No. of Shares\": 901070.0, \"No. of Trades\": 7986.0, \"Total Turnover\": 185197303.0, \"Deliverable Quantity\": 311175.0, \"% Deli. Qty to Traded Qty\": 34.53, \"Spread H-L\": 6.25, \"Spread C-O\": -4.9}, {\"Date\": \"2021-01-28\", \"Open\": 208.25, \"High\": 210.95, \"Low\": 205.35, \"Close\": 206.5, \"WAP\": 208.83, \"No. of Shares\": 2560320.0, \"No. of Trades\": 19975.0, \"Total Turnover\": 534669702.0, \"Deliverable Quantity\": 1554946.0, \"% Deli. Qty to Traded Qty\": 60.73, \"Spread H-L\": 5.6, \"Spread C-O\": -1.75}, {\"Date\": \"2021-01-27\", \"Open\": 207.9, \"High\": 212.6, \"Low\": 207.0, \"Close\": 210.7, \"WAP\": 210.77, \"No. of Shares\": 3210494.0, \"No. of Trades\": 22074.0, \"Total Turnover\": 676679110.0, \"Deliverable Quantity\": 1756535.0, \"% Deli. Qty to Traded Qty\": 54.71, \"Spread H-L\": 5.6, \"Spread C-O\": 2.8}, {\"Date\": \"2021-01-25\", \"Open\": 212.45, \"High\": 212.45, \"Low\": 206.9, \"Close\": 207.9, \"WAP\": 208.97, \"No. of Shares\": 869425.0, \"No. of Trades\": 7218.0, \"Total Turnover\": 181685926.0, \"Deliverable Quantity\": 205242.0, \"% Deli. Qty to Traded Qty\": 23.61, \"Spread H-L\": 5.55, \"Spread C-O\": -4.55}, {\"Date\": \"2021-01-22\", \"Open\": 213.85, \"High\": 215.0, \"Low\": 209.1, \"Close\": 210.65, \"WAP\": 211.6, \"No. of Shares\": 1061063.0, \"No. of Trades\": 8792.0, \"Total Turnover\": 224517927.0, \"Deliverable Quantity\": 269240.0, \"% Deli. Qty to Traded Qty\": 25.37, \"Spread H-L\": 5.9, \"Spread C-O\": -3.2}, {\"Date\": \"2021-01-21\", \"Open\": 218.5, \"High\": 219.45, \"Low\": 212.3, \"Close\": 213.65, \"WAP\": 216.31, \"No. of Shares\": 1044413.0, \"No. of Trades\": 8728.0, \"Total Turnover\": 225917573.0, \"Deliverable Quantity\": 330245.0, \"% Deli. Qty to Traded Qty\": 31.62, \"Spread H-L\": 7.15, \"Spread C-O\": -4.85}, {\"Date\": \"2021-01-20\", \"Open\": 219.0, \"High\": 219.0, \"Low\": 215.75, \"Close\": 217.6, \"WAP\": 217.27, \"No. of Shares\": 2094596.0, \"No. of Trades\": 19832.0, \"Total Turnover\": 455083904.0, \"Deliverable Quantity\": 659588.0, \"% Deli. Qty to Traded Qty\": 31.49, \"Spread H-L\": 3.25, \"Spread C-O\": -1.4}, {\"Date\": \"2021-01-19\", \"Open\": 221.0, \"High\": 221.6, \"Low\": 217.65, \"Close\": 218.9, \"WAP\": 219.36, \"No. of Shares\": 1139773.0, \"No. of Trades\": 7771.0, \"Total Turnover\": 250024070.0, \"Deliverable Quantity\": 326401.0, \"% Deli. Qty to Traded Qty\": 28.64, \"Spread H-L\": 3.95, \"Spread C-O\": -2.1}, {\"Date\": \"2021-01-18\", \"Open\": 218.1, \"High\": 221.95, \"Low\": 214.6, \"Close\": 219.55, \"WAP\": 218.67, \"No. of Shares\": 4673635.0, \"No. of Trades\": 50134.0, \"Total Turnover\": 1021988351.0, \"Deliverable Quantity\": 1998269.0, \"% Deli. Qty to Traded Qty\": 42.76, \"Spread H-L\": 7.35, \"Spread C-O\": 1.45}, {\"Date\": \"2021-01-15\", \"Open\": 215.0, \"High\": 218.55, \"Low\": 211.3, \"Close\": 217.9, \"WAP\": 215.82, \"No. of Shares\": 2173381.0, \"No. of Trades\": 14595.0, \"Total Turnover\": 469055974.0, \"Deliverable Quantity\": 616949.0, \"% Deli. Qty to Traded Qty\": 28.39, \"Spread H-L\": 7.25, \"Spread C-O\": 2.9}, {\"Date\": \"2021-01-14\", \"Open\": 212.9, \"High\": 216.4, \"Low\": 212.0, \"Close\": 214.1, \"WAP\": 213.76, \"No. of Shares\": 4509860.0, \"No. of Trades\": 29922.0, \"Total Turnover\": 964044867.0, \"Deliverable Quantity\": 2535600.0, \"% Deli. Qty to Traded Qty\": 56.22, \"Spread H-L\": 4.4, \"Spread C-O\": 1.2}, {\"Date\": \"2021-01-13\", \"Open\": 207.85, \"High\": 213.0, \"Low\": 205.25, \"Close\": 211.25, \"WAP\": 209.57, \"No. of Shares\": 2965389.0, \"No. of Trades\": 14568.0, \"Total Turnover\": 621450989.0, \"Deliverable Quantity\": 625447.0, \"% Deli. Qty to Traded Qty\": 21.09, \"Spread H-L\": 7.75, \"Spread C-O\": 3.4}, {\"Date\": \"2021-01-12\", \"Open\": 202.6, \"High\": 206.9, \"Low\": 202.0, \"Close\": 206.4, \"WAP\": 204.5, \"No. of Shares\": 1094684.0, \"No. of Trades\": 8727.0, \"Total Turnover\": 223867100.0, \"Deliverable Quantity\": 350773.0, \"% Deli. Qty to Traded Qty\": 32.04, \"Spread H-L\": 4.9, \"Spread C-O\": 3.8}, {\"Date\": \"2021-01-11\", \"Open\": 203.6, \"High\": 206.0, \"Low\": 201.3, \"Close\": 202.45, \"WAP\": 203.4, \"No. of Shares\": 3080596.0, \"No. of Trades\": 31734.0, \"Total Turnover\": 626587949.0, \"Deliverable Quantity\": 1151110.0, \"% Deli. Qty to Traded Qty\": 37.37, \"Spread H-L\": 4.7, \"Spread C-O\": -1.15}, {\"Date\": \"2021-01-08\", \"Open\": 204.0, \"High\": 206.0, \"Low\": 200.3, \"Close\": 201.55, \"WAP\": 203.25, \"No. of Shares\": 1732160.0, \"No. of Trades\": 14926.0, \"Total Turnover\": 352060232.0, \"Deliverable Quantity\": 677368.0, \"% Deli. Qty to Traded Qty\": 39.11, \"Spread H-L\": 5.7, \"Spread C-O\": -2.45}, {\"Date\": \"2021-01-07\", \"Open\": 205.8, \"High\": 207.55, \"Low\": 202.15, \"Close\": 202.75, \"WAP\": 204.21, \"No. of Shares\": 2855957.0, \"No. of Trades\": 38017.0, \"Total Turnover\": 583207857.0, \"Deliverable Quantity\": 1228376.0, \"% Deli. Qty to Traded Qty\": 43.01, \"Spread H-L\": 5.4, \"Spread C-O\": -3.05}, {\"Date\": \"2021-01-06\", \"Open\": 211.0, \"High\": 211.6, \"Low\": 204.35, \"Close\": 205.45, \"WAP\": 207.18, \"No. of Shares\": 3587679.0, \"No. of Trades\": 48466.0, \"Total Turnover\": 743288556.0, \"Deliverable Quantity\": 1524148.0, \"% Deli. Qty to Traded Qty\": 42.48, \"Spread H-L\": 7.25, \"Spread C-O\": -5.55}, {\"Date\": \"2021-01-05\", \"Open\": 212.0, \"High\": 213.25, \"Low\": 210.6, \"Close\": 211.5, \"WAP\": 211.58, \"No. of Shares\": 1395577.0, \"No. of Trades\": 16933.0, \"Total Turnover\": 295275698.0, \"Deliverable Quantity\": 505415.0, \"% Deli. Qty to Traded Qty\": 36.22, \"Spread H-L\": 2.65, \"Spread C-O\": -0.5}, {\"Date\": \"2021-01-04\", \"Open\": 213.95, \"High\": 216.0, \"Low\": 212.0, \"Close\": 213.4, \"WAP\": 214.29, \"No. of Shares\": 2181422.0, \"No. of Trades\": 20574.0, \"Total Turnover\": 467447569.0, \"Deliverable Quantity\": 933070.0, \"% Deli. Qty to Traded Qty\": 42.77, \"Spread H-L\": 4.0, \"Spread C-O\": -0.55}, {\"Date\": \"2021-01-01\", \"Open\": 210.0, \"High\": 214.2, \"Low\": 209.3, \"Close\": 213.85, \"WAP\": 212.07, \"No. of Shares\": 1831530.0, \"No. of Trades\": 14684.0, \"Total Turnover\": 388411636.0, \"Deliverable Quantity\": 960939.0, \"% Deli. Qty to Traded Qty\": 52.47, \"Spread H-L\": 4.9, \"Spread C-O\": 3.85}, {\"Date\": \"2020-12-31\", \"Open\": 211.0, \"High\": 211.25, \"Low\": 208.55, \"Close\": 209.0, \"WAP\": 209.73, \"No. of Shares\": 620996.0, \"No. of Trades\": 6054.0, \"Total Turnover\": 130238758.0, \"Deliverable Quantity\": 159860.0, \"% Deli. Qty to Traded Qty\": 25.74, \"Spread H-L\": 2.7, \"Spread C-O\": -2.0}, {\"Date\": \"2020-12-30\", \"Open\": 213.0, \"High\": 213.35, \"Low\": 209.6, \"Close\": 211.1, \"WAP\": 211.28, \"No. of Shares\": 1496633.0, \"No. of Trades\": 14615.0, \"Total Turnover\": 316211293.0, \"Deliverable Quantity\": 507163.0, \"% Deli. Qty to Traded Qty\": 33.89, \"Spread H-L\": 3.75, \"Spread C-O\": -1.9}, {\"Date\": \"2020-12-29\", \"Open\": 210.8, \"High\": 213.5, \"Low\": 209.5, \"Close\": 211.55, \"WAP\": 211.65, \"No. of Shares\": 1930582.0, \"No. of Trades\": 16338.0, \"Total Turnover\": 408607601.0, \"Deliverable Quantity\": 815509.0, \"% Deli. Qty to Traded Qty\": 42.24, \"Spread H-L\": 4.0, \"Spread C-O\": 0.75}, {\"Date\": \"2020-12-28\", \"Open\": 208.7, \"High\": 210.5, \"Low\": 207.85, \"Close\": 209.5, \"WAP\": 209.3, \"No. of Shares\": 1366582.0, \"No. of Trades\": 12741.0, \"Total Turnover\": 286019437.0, \"Deliverable Quantity\": 515864.0, \"% Deli. Qty to Traded Qty\": 37.75, \"Spread H-L\": 2.65, \"Spread C-O\": 0.8}, {\"Date\": \"2020-12-24\", \"Open\": 210.0, \"High\": 210.65, \"Low\": 205.75, \"Close\": 208.6, \"WAP\": 208.21, \"No. of Shares\": 770083.0, \"No. of Trades\": 6687.0, \"Total Turnover\": 160342506.0, \"Deliverable Quantity\": 191396.0, \"% Deli. Qty to Traded Qty\": 24.85, \"Spread H-L\": 4.9, \"Spread C-O\": -1.4}, {\"Date\": \"2020-12-23\", \"Open\": 203.7, \"High\": 208.0, \"Low\": 202.1, \"Close\": 207.7, \"WAP\": 205.52, \"No. of Shares\": 825745.0, \"No. of Trades\": 12007.0, \"Total Turnover\": 169708368.0, \"Deliverable Quantity\": 425348.0, \"% Deli. Qty to Traded Qty\": 51.51, \"Spread H-L\": 5.9, \"Spread C-O\": 4.0}, {\"Date\": \"2020-12-22\", \"Open\": 202.2, \"High\": 206.2, \"Low\": 196.9, \"Close\": 203.35, \"WAP\": 200.77, \"No. of Shares\": 4768058.0, \"No. of Trades\": 48154.0, \"Total Turnover\": 957273710.0, \"Deliverable Quantity\": 2032545.0, \"% Deli. Qty to Traded Qty\": 42.63, \"Spread H-L\": 9.3, \"Spread C-O\": 1.15}, {\"Date\": \"2020-12-21\", \"Open\": 214.1, \"High\": 214.5, \"Low\": 198.55, \"Close\": 202.95, \"WAP\": 206.23, \"No. of Shares\": 5536504.0, \"No. of Trades\": 58872.0, \"Total Turnover\": 1141796886.0, \"Deliverable Quantity\": 2443922.0, \"% Deli. Qty to Traded Qty\": 44.14, \"Spread H-L\": 15.95, \"Spread C-O\": -11.15}, {\"Date\": \"2020-12-18\", \"Open\": 212.9, \"High\": 215.95, \"Low\": 209.75, \"Close\": 214.5, \"WAP\": 211.85, \"No. of Shares\": 932353.0, \"No. of Trades\": 7012.0, \"Total Turnover\": 197521329.0, \"Deliverable Quantity\": 358273.0, \"% Deli. Qty to Traded Qty\": 38.43, \"Spread H-L\": 6.2, \"Spread C-O\": 1.6}, {\"Date\": \"2020-12-17\", \"Open\": 214.5, \"High\": 214.75, \"Low\": 211.3, \"Close\": 213.0, \"WAP\": 212.81, \"No. of Shares\": 1683054.0, \"No. of Trades\": 16120.0, \"Total Turnover\": 358177738.0, \"Deliverable Quantity\": 610728.0, \"% Deli. Qty to Traded Qty\": 36.29, \"Spread H-L\": 3.45, \"Spread C-O\": -1.5}, {\"Date\": \"2020-12-16\", \"Open\": 213.8, \"High\": 215.65, \"Low\": 213.5, \"Close\": 214.35, \"WAP\": 214.45, \"No. of Shares\": 803324.0, \"No. of Trades\": 6143.0, \"Total Turnover\": 172274984.0, \"Deliverable Quantity\": 354757.0, \"% Deli. Qty to Traded Qty\": 44.16, \"Spread H-L\": 2.15, \"Spread C-O\": 0.55}, {\"Date\": \"2020-12-15\", \"Open\": 215.35, \"High\": 216.3, \"Low\": 211.55, \"Close\": 213.4, \"WAP\": 213.34, \"No. of Shares\": 2364605.0, \"No. of Trades\": 20978.0, \"Total Turnover\": 504469660.0, \"Deliverable Quantity\": 854975.0, \"% Deli. Qty to Traded Qty\": 36.16, \"Spread H-L\": 4.75, \"Spread C-O\": -1.95}, {\"Date\": \"2020-12-14\", \"Open\": 218.0, \"High\": 218.5, \"Low\": 214.95, \"Close\": 215.9, \"WAP\": 216.69, \"No. of Shares\": 1325096.0, \"No. of Trades\": 8425.0, \"Total Turnover\": 287140649.0, \"Deliverable Quantity\": 457653.0, \"% Deli. Qty to Traded Qty\": 34.54, \"Spread H-L\": 3.55, \"Spread C-O\": -2.1}, {\"Date\": \"2020-12-11\", \"Open\": 214.0, \"High\": 217.85, \"Low\": 213.35, \"Close\": 216.2, \"WAP\": 215.91, \"No. of Shares\": 3893719.0, \"No. of Trades\": 31882.0, \"Total Turnover\": 840697521.0, \"Deliverable Quantity\": 1399259.0, \"% Deli. Qty to Traded Qty\": 35.94, \"Spread H-L\": 4.5, \"Spread C-O\": 2.2}, {\"Date\": \"2020-12-10\", \"Open\": 207.0, \"High\": 213.55, \"Low\": 203.1, \"Close\": 212.7, \"WAP\": 209.09, \"No. of Shares\": 2517250.0, \"No. of Trades\": 16145.0, \"Total Turnover\": 526321255.0, \"Deliverable Quantity\": 587592.0, \"% Deli. Qty to Traded Qty\": 23.34, \"Spread H-L\": 10.45, \"Spread C-O\": 5.7}, {\"Date\": \"2020-12-09\", \"Open\": 204.6, \"High\": 207.7, \"Low\": 204.6, \"Close\": 205.35, \"WAP\": 206.2, \"No. of Shares\": 2784923.0, \"No. of Trades\": 27107.0, \"Total Turnover\": 574254036.0, \"Deliverable Quantity\": 1309064.0, \"% Deli. Qty to Traded Qty\": 47.01, \"Spread H-L\": 3.1, \"Spread C-O\": 0.75}, {\"Date\": \"2020-12-08\", \"Open\": 204.35, \"High\": 204.75, \"Low\": 199.7, \"Close\": 202.45, \"WAP\": 202.44, \"No. of Shares\": 1124395.0, \"No. of Trades\": 8250.0, \"Total Turnover\": 227618340.0, \"Deliverable Quantity\": 277626.0, \"% Deli. Qty to Traded Qty\": 24.69, \"Spread H-L\": 5.05, \"Spread C-O\": -1.9}, {\"Date\": \"2020-12-07\", \"Open\": 198.65, \"High\": 203.75, \"Low\": 197.65, \"Close\": 203.1, \"WAP\": 201.54, \"No. of Shares\": 1455585.0, \"No. of Trades\": 12009.0, \"Total Turnover\": 293363822.0, \"Deliverable Quantity\": 461899.0, \"% Deli. Qty to Traded Qty\": 31.73, \"Spread H-L\": 6.1, \"Spread C-O\": 4.45}, {\"Date\": \"2020-12-04\", \"Open\": 196.75, \"High\": 199.3, \"Low\": 196.45, \"Close\": 198.15, \"WAP\": 198.21, \"No. of Shares\": 2221957.0, \"No. of Trades\": 20001.0, \"Total Turnover\": 440415976.0, \"Deliverable Quantity\": 1230187.0, \"% Deli. Qty to Traded Qty\": 55.36, \"Spread H-L\": 2.85, \"Spread C-O\": 1.4}, {\"Date\": \"2020-12-03\", \"Open\": 196.85, \"High\": 197.35, \"Low\": 194.6, \"Close\": 196.25, \"WAP\": 196.2, \"No. of Shares\": 1979632.0, \"No. of Trades\": 5454.0, \"Total Turnover\": 388408002.0, \"Deliverable Quantity\": 1374431.0, \"% Deli. Qty to Traded Qty\": 69.43, \"Spread H-L\": 2.75, \"Spread C-O\": -0.6}, {\"Date\": \"2020-12-02\", \"Open\": 195.0, \"High\": 198.7, \"Low\": 193.6, \"Close\": 195.9, \"WAP\": 196.14, \"No. of Shares\": 2434056.0, \"No. of Trades\": 19897.0, \"Total Turnover\": 477417617.0, \"Deliverable Quantity\": 989109.0, \"% Deli. Qty to Traded Qty\": 40.64, \"Spread H-L\": 5.1, \"Spread C-O\": 0.9}]}}, {\"mode\": \"vega-lite\"});\n",
       "</script>"
      ],
      "text/plain": [
       "alt.LayerChart(...)"
      ]
     },
     "execution_count": 60,
     "metadata": {},
     "output_type": "execute_result"
    }
   ],
   "source": [
    "#Plotting an altair chart\n",
    "\n",
    "base=alt.Chart(last_90_day).properties(width=1000)\n",
    "\n",
    "line=base.mark_line().encode(x='Date', y='WAP')\n",
    "\n",
    "rule=base.mark_rule().encode(y='average(WAP)', size=alt.value(2))\n",
    "\n",
    "line+rule"
   ]
  },
  {
   "cell_type": "code",
   "execution_count": null,
   "metadata": {},
   "outputs": [],
   "source": []
  }
 ],
 "metadata": {
  "kernelspec": {
   "display_name": "Python 3",
   "language": "python",
   "name": "python3"
  },
  "language_info": {
   "codemirror_mode": {
    "name": "ipython",
    "version": 3
   },
   "file_extension": ".py",
   "mimetype": "text/x-python",
   "name": "python",
   "nbconvert_exporter": "python",
   "pygments_lexer": "ipython3",
   "version": "3.8.5"
  }
 },
 "nbformat": 4,
 "nbformat_minor": 5
}
